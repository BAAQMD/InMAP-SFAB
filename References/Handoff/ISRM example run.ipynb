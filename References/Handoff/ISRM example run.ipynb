{
 "cells": [
  {
   "cell_type": "code",
   "execution_count": 1,
   "id": "a289ca00",
   "metadata": {},
   "outputs": [],
   "source": [
    "import geopandas as gpd\n",
    "import pandas as pd\n",
    "from netCDF4 import Dataset\n",
    "import numpy as np\n",
    "\n",
    "#In case your computer cannot run whole isrm, you have to slice it to smaller pieces so it can run. \n",
    "\n"
   ]
  },
  {
   "cell_type": "code",
   "execution_count": 2,
   "id": "119efd1a",
   "metadata": {},
   "outputs": [],
   "source": [
    "#Load ISRM\n",
    "PM_isrm = Dataset('/home/jdk/Documents/PICS_UW/Data/isrm_slice/PM25L0.nc', mode='r')\n",
    "PM_isrm0 = PM_isrm[\"PrimaryPM25\"][0] # for ground level source (lower than 57m)\n",
    "PM_isrm = Dataset('/home/jdk/Documents/PICS_UW/Data/isrm_slice/PM25L1.nc', mode='r')\n",
    "PM_isrm1 = PM_isrm[\"PrimaryPM25\"][0]  # for stacks between 57m and 379m\n",
    "PM_isrm = Dataset('/home/jdk/Documents/PICS_UW/Data/isrm_slice/PM25L2.nc', mode='r')\n",
    "PM_isrm2 = PM_isrm[\"PrimaryPM25\"][0]  # for stacks higher than 379m "
   ]
  },
  {
   "cell_type": "code",
   "execution_count": 3,
   "id": "2b6e3ea5",
   "metadata": {},
   "outputs": [
    {
     "data": {
      "text/plain": [
       "1.3516762153997774e-09"
      ]
     },
     "execution_count": 3,
     "metadata": {},
     "output_type": "execute_result"
    }
   ],
   "source": [
    "# Stack height = 0, Source isrm grid = 801, Receptor isrm grid = 802 \n",
    "# Change in 1 ug/s emission in PM2.5 will result in ...  ug/m3\n",
    "\n",
    "PM_isrm0[801][802] * 1"
   ]
  },
  {
   "cell_type": "code",
   "execution_count": 4,
   "id": "eb32e025",
   "metadata": {},
   "outputs": [
    {
     "data": {
      "text/plain": [
       "4.889650906392262e-10"
      ]
     },
     "execution_count": 4,
     "metadata": {},
     "output_type": "execute_result"
    }
   ],
   "source": [
    "# Stack height = 100, Source isrm grid = 801, Receptor isrm grid = 802 \n",
    "# Change in 1 ug/s emission in PM2.5 will result in ...  ug/m3 PM2.5\n",
    "#Now that the stack height is more than 57m but less than 379m, we use different slice\n",
    "\n",
    "PM_isrm1[801][802] * 1"
   ]
  },
  {
   "cell_type": "code",
   "execution_count": 5,
   "id": "c22c7fcf",
   "metadata": {},
   "outputs": [],
   "source": [
    "NH3_isrm = Dataset('/home/jdk/Documents/PICS_UW/Data/isrm_slice/NH4L0.nc', mode='r')\n",
    "NH3_isrm0 = NH3_isrm[\"pNH4\"][0]\n",
    "\n",
    "#NH3_isrm = Dataset('/home/jdk/Documents/PICS_UW/Data/isrm_slice/NH4L1.nc', mode='r')\n",
    "#NH3_isrm1 = NH3_isrm[\"pNH4\"][0]\n",
    "#NH3_isrm = Dataset('/home/jdk/Documents/PICS_UW/Data/isrm_slice/NH4L2.nc', mode='r')\n",
    "#NH3_isrm2 = NH3_isrm[\"pNH4\"][0]"
   ]
  },
  {
   "cell_type": "code",
   "execution_count": 7,
   "id": "9fd3d6fb",
   "metadata": {},
   "outputs": [
    {
     "data": {
      "text/plain": [
       "1.254403469985732e-09"
      ]
     },
     "execution_count": 7,
     "metadata": {},
     "output_type": "execute_result"
    }
   ],
   "source": [
    "# Stack height = 0, Source isrm grid = 801, Receptor isrm grid = 802 \n",
    "# Change in 1 ug/s emission in NH3 will result in ...  ug/m3 NH4\n",
    "\n",
    "NH3_isrm0[801][802] * 1"
   ]
  },
  {
   "cell_type": "code",
   "execution_count": 8,
   "id": "bc4afb4a",
   "metadata": {},
   "outputs": [
    {
     "data": {
      "text/plain": [
       "1.9320826538660185e-07"
      ]
     },
     "execution_count": 8,
     "metadata": {},
     "output_type": "execute_result"
    }
   ],
   "source": [
    "# Stack height = 10, Source isrm grid = 1200, Receptor isrm grid = 1202 \n",
    "# Change in 2 ug/s emission in NH3 will result in ...  ug/m3 NH4\n",
    "\n",
    "NH3_isrm0[1201][1202] * 2"
   ]
  },
  {
   "cell_type": "code",
   "execution_count": 12,
   "id": "65c56c01",
   "metadata": {},
   "outputs": [],
   "source": [
    "#Load NOx ISRM\n",
    "NOx_isrm = Dataset('/home/jdk/Documents/PICS_UW/Data/isrm_slice/NO3L0.nc', mode='r')\n",
    "NOx_isrm0 = NOx_isrm[\"pNO3\"][0]\n",
    "#NOx_isrm = Dataset('/home/jdk/Documents/PICS_UW/Data/isrm_slice/NO3L1.nc', mode='r')\n",
    "#NOx_isrm1 = NOx_isrm[\"pNO3\"][0]\n",
    "#NOx_isrm = Dataset('/home/jdk/Documents/PICS_UW/Data/isrm_slice/NO3L2.nc', mode='r')\n",
    "#NOx_isrm2 = NOx_isrm[\"pNO3\"][0]"
   ]
  },
  {
   "cell_type": "code",
   "execution_count": 13,
   "id": "0fe624aa",
   "metadata": {},
   "outputs": [
    {
     "ename": "MemoryError",
     "evalue": "Unable to allocate 10.2 GiB for an array with shape (1, 52411, 52411) and data type float32",
     "output_type": "error",
     "traceback": [
      "\u001b[0;31m---------------------------------------------------------------------------\u001b[0m",
      "\u001b[0;31mMemoryError\u001b[0m                               Traceback (most recent call last)",
      "\u001b[0;32m<ipython-input-13-c0945ba73347>\u001b[0m in \u001b[0;36m<module>\u001b[0;34m\u001b[0m\n\u001b[1;32m      1\u001b[0m \u001b[0mVOC_isrm\u001b[0m \u001b[0;34m=\u001b[0m \u001b[0mDataset\u001b[0m\u001b[0;34m(\u001b[0m\u001b[0;34m'/home/jdk/Documents/PICS_UW/Data/isrm_slice/SOAL0.nc'\u001b[0m\u001b[0;34m,\u001b[0m \u001b[0mmode\u001b[0m\u001b[0;34m=\u001b[0m\u001b[0;34m'r'\u001b[0m\u001b[0;34m)\u001b[0m\u001b[0;34m\u001b[0m\u001b[0;34m\u001b[0m\u001b[0m\n\u001b[0;32m----> 2\u001b[0;31m \u001b[0mVOC_isrm0\u001b[0m \u001b[0;34m=\u001b[0m \u001b[0mVOC_isrm\u001b[0m\u001b[0;34m[\u001b[0m\u001b[0;34m\"SOA\"\u001b[0m\u001b[0;34m]\u001b[0m\u001b[0;34m[\u001b[0m\u001b[0;36m0\u001b[0m\u001b[0;34m]\u001b[0m\u001b[0;34m\u001b[0m\u001b[0;34m\u001b[0m\u001b[0m\n\u001b[0m\u001b[1;32m      3\u001b[0m \u001b[0;31m#VOC_isrm = Dataset('/home/jdk/Documents/PICS_UW/Data/isrm_slice/SOAL1.nc', mode='r')\u001b[0m\u001b[0;34m\u001b[0m\u001b[0;34m\u001b[0m\u001b[0;34m\u001b[0m\u001b[0m\n\u001b[1;32m      4\u001b[0m \u001b[0;31m#VOC_isrm1 = VOC_isrm[\"SOA\"][0]\u001b[0m\u001b[0;34m\u001b[0m\u001b[0;34m\u001b[0m\u001b[0;34m\u001b[0m\u001b[0m\n\u001b[1;32m      5\u001b[0m \u001b[0;31m#VOC_isrm = Dataset('/home/jdk/Documents/PICS_UW/Data/isrm_slice/SOAL2.nc', mode='r')\u001b[0m\u001b[0;34m\u001b[0m\u001b[0;34m\u001b[0m\u001b[0;34m\u001b[0m\u001b[0m\n",
      "\u001b[0;32msrc/netCDF4/_netCDF4.pyx\u001b[0m in \u001b[0;36mnetCDF4._netCDF4.Variable.__getitem__\u001b[0;34m()\u001b[0m\n",
      "\u001b[0;31mMemoryError\u001b[0m: Unable to allocate 10.2 GiB for an array with shape (1, 52411, 52411) and data type float32"
     ]
    }
   ],
   "source": [
    "#VOC_isrm = Dataset('/home/jdk/Documents/PICS_UW/Data/isrm_slice/SOAL0.nc', mode='r')\n",
    "#VOC_isrm0 = VOC_isrm[\"SOA\"][0]\n",
    "#VOC_isrm = Dataset('/home/jdk/Documents/PICS_UW/Data/isrm_slice/SOAL1.nc', mode='r')\n",
    "#VOC_isrm1 = VOC_isrm[\"SOA\"][0]\n",
    "#VOC_isrm = Dataset('/home/jdk/Documents/PICS_UW/Data/isrm_slice/SOAL2.nc', mode='r')\n",
    "#VOC_isrm2 = VOC_isrm[\"SOA\"][0]"
   ]
  },
  {
   "cell_type": "code",
   "execution_count": null,
   "id": "f2696dd0",
   "metadata": {},
   "outputs": [],
   "source": [
    "#SOx_isrm = Dataset('/home/jdk/Documents/PICS_UW/Data/isrm_slice/SO4L0.nc', mode='r')\n",
    "#SOx_isrm0 = SOx_isrm[\"pSO4\"][0]\n",
    "#SOx_isrm = Dataset('/home/jdk/Documents/PICS_UW/Data/isrm_slice/SO4L1.nc', mode='r')\n",
    "#SOx_isrm1 = SOx_isrm[\"pSO4\"][0]\n",
    "#SOx_isrm = Dataset('/home/jdk/Documents/PICS_UW/Data/isrm_slice/SO4L2.nc', mode='r')\n",
    "#SOx_isrm2 = SOx_isrm[\"pSO4\"][0]"
   ]
  },
  {
   "cell_type": "code",
   "execution_count": 11,
   "id": "e8e01a8d",
   "metadata": {},
   "outputs": [],
   "source": [
    "# ISRM Grid Cell Latlong \n",
    "\n",
    "#ISRM grid \n",
    "isrm_crosswalk = gpd.read_file(\"/home/jdk/Documents/PICS_UW/Data/isrm_boundaries_latlons.csv\")\n",
    "#Polygon for each isrm grid\n",
    "Grid=[]\n",
    "for i in range(len(isrm_crosswalk)):\n",
    "      isrm_poly = isrm_crosswalk.iloc[[i]]\n",
    "      coords = [(float(isrm_poly['lon1'][i]), float(isrm_poly['lat1'][i])),\n",
    "              (float(isrm_poly['lon2'][i]), float(isrm_poly['lat2'][i])),\n",
    "              (float(isrm_poly['lon3'][i]), float(isrm_poly['lat3'][i])),\n",
    "              (float(isrm_poly['lon4'][i]), float(isrm_poly['lat4'][i]))]\n",
    "    \n",
    "      lr = LinearRing(coords)\n",
    "      poly = Polygon(lr)\n",
    "      Grid.append(poly)\n",
    "isrm_crosswalk['geometry']=Grid\n",
    "isrm_crosswalk=pd.DataFrame(isrm_crosswalk)"
   ]
  },
  {
   "cell_type": "code",
   "execution_count": 14,
   "id": "60fdd9fc",
   "metadata": {},
   "outputs": [
    {
     "data": {
      "text/html": [
       "<div>\n",
       "<style scoped>\n",
       "    .dataframe tbody tr th:only-of-type {\n",
       "        vertical-align: middle;\n",
       "    }\n",
       "\n",
       "    .dataframe tbody tr th {\n",
       "        vertical-align: top;\n",
       "    }\n",
       "\n",
       "    .dataframe thead th {\n",
       "        text-align: right;\n",
       "    }\n",
       "</style>\n",
       "<table border=\"1\" class=\"dataframe\">\n",
       "  <thead>\n",
       "    <tr style=\"text-align: right;\">\n",
       "      <th></th>\n",
       "      <th>field_1</th>\n",
       "      <th>lat0</th>\n",
       "      <th>lon0</th>\n",
       "      <th>lat1</th>\n",
       "      <th>lon1</th>\n",
       "      <th>lat2</th>\n",
       "      <th>lon2</th>\n",
       "      <th>lat3</th>\n",
       "      <th>lon3</th>\n",
       "      <th>lat4</th>\n",
       "      <th>lon4</th>\n",
       "      <th>geometry</th>\n",
       "    </tr>\n",
       "  </thead>\n",
       "  <tbody>\n",
       "    <tr>\n",
       "      <th>0</th>\n",
       "      <td>0</td>\n",
       "      <td>18.173965282940248</td>\n",
       "      <td>-121.77152403177871</td>\n",
       "      <td>18.28289742111478</td>\n",
       "      <td>-121.35762193131006</td>\n",
       "      <td>18.676780914046745</td>\n",
       "      <td>-121.4719594535325</td>\n",
       "      <td>18.56710110465917</td>\n",
       "      <td>-121.88760857946677</td>\n",
       "      <td>18.173965282940248</td>\n",
       "      <td>-121.77152403177871</td>\n",
       "      <td>POLYGON ((-121.35762 18.28290, -121.47196 18.6...</td>\n",
       "    </tr>\n",
       "    <tr>\n",
       "      <th>1</th>\n",
       "      <td>1</td>\n",
       "      <td>18.56710110465917</td>\n",
       "      <td>-121.88760857946677</td>\n",
       "      <td>18.676780914046745</td>\n",
       "      <td>-121.4719594535325</td>\n",
       "      <td>19.071415340253452</td>\n",
       "      <td>-121.58734902804338</td>\n",
       "      <td>18.96098476422113</td>\n",
       "      <td>-122.00475852458318</td>\n",
       "      <td>18.56710110465917</td>\n",
       "      <td>-121.88760857946677</td>\n",
       "      <td>POLYGON ((-121.47196 18.67678, -121.58735 19.0...</td>\n",
       "    </tr>\n",
       "    <tr>\n",
       "      <th>2</th>\n",
       "      <td>2</td>\n",
       "      <td>18.96098476422113</td>\n",
       "      <td>-122.00475852458318</td>\n",
       "      <td>19.071415340253452</td>\n",
       "      <td>-121.58734902804338</td>\n",
       "      <td>19.46678515776366</td>\n",
       "      <td>-121.70380486504705</td>\n",
       "      <td>19.355600743886505</td>\n",
       "      <td>-122.12298820692828</td>\n",
       "      <td>18.96098476422113</td>\n",
       "      <td>-122.00475852458318</td>\n",
       "      <td>POLYGON ((-121.58735 19.07142, -121.70380 19.4...</td>\n",
       "    </tr>\n",
       "    <tr>\n",
       "      <th>3</th>\n",
       "      <td>3</td>\n",
       "      <td>19.355600743886505</td>\n",
       "      <td>-122.12298820692828</td>\n",
       "      <td>19.46678515776366</td>\n",
       "      <td>-121.70380486504705</td>\n",
       "      <td>19.862874574013976</td>\n",
       "      <td>-121.82134142457662</td>\n",
       "      <td>19.75093327572927</td>\n",
       "      <td>-122.24231221723477</td>\n",
       "      <td>19.355600743886505</td>\n",
       "      <td>-122.12298820692828</td>\n",
       "      <td>POLYGON ((-121.70380 19.46679, -121.82134 19.8...</td>\n",
       "    </tr>\n",
       "    <tr>\n",
       "      <th>4</th>\n",
       "      <td>4</td>\n",
       "      <td>19.75093327572927</td>\n",
       "      <td>-122.24231221723477</td>\n",
       "      <td>19.862874574013976</td>\n",
       "      <td>-121.82134142457662</td>\n",
       "      <td>20.259667546175752</td>\n",
       "      <td>-121.93997342183225</td>\n",
       "      <td>20.146966341950968</td>\n",
       "      <td>-122.3627454024972</td>\n",
       "      <td>19.75093327572927</td>\n",
       "      <td>-122.24231221723477</td>\n",
       "      <td>POLYGON ((-121.82134 19.86287, -121.93997 20.2...</td>\n",
       "    </tr>\n",
       "    <tr>\n",
       "      <th>...</th>\n",
       "      <td>...</td>\n",
       "      <td>...</td>\n",
       "      <td>...</td>\n",
       "      <td>...</td>\n",
       "      <td>...</td>\n",
       "      <td>...</td>\n",
       "      <td>...</td>\n",
       "      <td>...</td>\n",
       "      <td>...</td>\n",
       "      <td>...</td>\n",
       "      <td>...</td>\n",
       "      <td>...</td>\n",
       "    </tr>\n",
       "    <tr>\n",
       "      <th>52406</th>\n",
       "      <td>52406</td>\n",
       "      <td>50.647169281986734</td>\n",
       "      <td>-60.531503401285384</td>\n",
       "      <td>50.479901717544685</td>\n",
       "      <td>-59.916726845027384</td>\n",
       "      <td>50.86943440049979</td>\n",
       "      <td>-59.64991382709224</td>\n",
       "      <td>51.037579761314674</td>\n",
       "      <td>-60.26809895901594</td>\n",
       "      <td>50.647169281986734</td>\n",
       "      <td>-60.531503401285384</td>\n",
       "      <td>POLYGON ((-59.91673 50.47990, -59.64991 50.869...</td>\n",
       "    </tr>\n",
       "    <tr>\n",
       "      <th>52407</th>\n",
       "      <td>52407</td>\n",
       "      <td>51.037579761314674</td>\n",
       "      <td>-60.26809895901594</td>\n",
       "      <td>50.86943440049979</td>\n",
       "      <td>-59.64991382709224</td>\n",
       "      <td>51.25785824694101</td>\n",
       "      <td>-59.37945682236522</td>\n",
       "      <td>51.42688309050906</td>\n",
       "      <td>-60.00107574170353</td>\n",
       "      <td>51.037579761314674</td>\n",
       "      <td>-60.26809895901594</td>\n",
       "      <td>POLYGON ((-59.64991 50.86943, -59.37946 51.257...</td>\n",
       "    </tr>\n",
       "    <tr>\n",
       "      <th>52408</th>\n",
       "      <td>52408</td>\n",
       "      <td>51.42688309050906</td>\n",
       "      <td>-60.00107574170353</td>\n",
       "      <td>51.25785824694101</td>\n",
       "      <td>-59.37945682236522</td>\n",
       "      <td>51.645144279242544</td>\n",
       "      <td>-59.105285556749095</td>\n",
       "      <td>51.815050308099345</td>\n",
       "      <td>-59.730363366085086</td>\n",
       "      <td>51.42688309050906</td>\n",
       "      <td>-60.00107574170353</td>\n",
       "      <td>POLYGON ((-59.37946 51.25786, -59.10529 51.645...</td>\n",
       "    </tr>\n",
       "    <tr>\n",
       "      <th>52409</th>\n",
       "      <td>52409</td>\n",
       "      <td>51.815050308099345</td>\n",
       "      <td>-59.730363366085086</td>\n",
       "      <td>51.645144279242544</td>\n",
       "      <td>-59.105285556749095</td>\n",
       "      <td>52.03126346226602</td>\n",
       "      <td>-58.827328083176006</td>\n",
       "      <td>52.202052396415006</td>\n",
       "      <td>-59.455889752554654</td>\n",
       "      <td>51.815050308099345</td>\n",
       "      <td>-59.730363366085086</td>\n",
       "      <td>POLYGON ((-59.10529 51.64514, -58.82733 52.031...</td>\n",
       "    </tr>\n",
       "    <tr>\n",
       "      <th>52410</th>\n",
       "      <td>52410</td>\n",
       "      <td>52.202052396415006</td>\n",
       "      <td>-59.455889752554654</td>\n",
       "      <td>52.03126346226602</td>\n",
       "      <td>-58.827328083176006</td>\n",
       "      <td>52.4161867050574</td>\n",
       "      <td>-58.54551073710902</td>\n",
       "      <td>52.587860283280925</td>\n",
       "      <td>-59.17758107915918</td>\n",
       "      <td>52.202052396415006</td>\n",
       "      <td>-59.455889752554654</td>\n",
       "      <td>POLYGON ((-58.82733 52.03126, -58.54551 52.416...</td>\n",
       "    </tr>\n",
       "  </tbody>\n",
       "</table>\n",
       "<p>52411 rows × 12 columns</p>\n",
       "</div>"
      ],
      "text/plain": [
       "      field_1                lat0                 lon0                lat1  \\\n",
       "0           0  18.173965282940248  -121.77152403177871   18.28289742111478   \n",
       "1           1   18.56710110465917  -121.88760857946677  18.676780914046745   \n",
       "2           2   18.96098476422113  -122.00475852458318  19.071415340253452   \n",
       "3           3  19.355600743886505  -122.12298820692828   19.46678515776366   \n",
       "4           4   19.75093327572927  -122.24231221723477  19.862874574013976   \n",
       "...       ...                 ...                  ...                 ...   \n",
       "52406   52406  50.647169281986734  -60.531503401285384  50.479901717544685   \n",
       "52407   52407  51.037579761314674   -60.26809895901594   50.86943440049979   \n",
       "52408   52408   51.42688309050906   -60.00107574170353   51.25785824694101   \n",
       "52409   52409  51.815050308099345  -59.730363366085086  51.645144279242544   \n",
       "52410   52410  52.202052396415006  -59.455889752554654   52.03126346226602   \n",
       "\n",
       "                      lon1                lat2                 lon2  \\\n",
       "0      -121.35762193131006  18.676780914046745   -121.4719594535325   \n",
       "1       -121.4719594535325  19.071415340253452  -121.58734902804338   \n",
       "2      -121.58734902804338   19.46678515776366  -121.70380486504705   \n",
       "3      -121.70380486504705  19.862874574013976  -121.82134142457662   \n",
       "4      -121.82134142457662  20.259667546175752  -121.93997342183225   \n",
       "...                    ...                 ...                  ...   \n",
       "52406  -59.916726845027384   50.86943440049979   -59.64991382709224   \n",
       "52407   -59.64991382709224   51.25785824694101   -59.37945682236522   \n",
       "52408   -59.37945682236522  51.645144279242544  -59.105285556749095   \n",
       "52409  -59.105285556749095   52.03126346226602  -58.827328083176006   \n",
       "52410  -58.827328083176006    52.4161867050574   -58.54551073710902   \n",
       "\n",
       "                     lat3                 lon3                lat4  \\\n",
       "0       18.56710110465917  -121.88760857946677  18.173965282940248   \n",
       "1       18.96098476422113  -122.00475852458318   18.56710110465917   \n",
       "2      19.355600743886505  -122.12298820692828   18.96098476422113   \n",
       "3       19.75093327572927  -122.24231221723477  19.355600743886505   \n",
       "4      20.146966341950968   -122.3627454024972   19.75093327572927   \n",
       "...                   ...                  ...                 ...   \n",
       "52406  51.037579761314674   -60.26809895901594  50.647169281986734   \n",
       "52407   51.42688309050906   -60.00107574170353  51.037579761314674   \n",
       "52408  51.815050308099345  -59.730363366085086   51.42688309050906   \n",
       "52409  52.202052396415006  -59.455889752554654  51.815050308099345   \n",
       "52410  52.587860283280925   -59.17758107915918  52.202052396415006   \n",
       "\n",
       "                      lon4                                           geometry  \n",
       "0      -121.77152403177871  POLYGON ((-121.35762 18.28290, -121.47196 18.6...  \n",
       "1      -121.88760857946677  POLYGON ((-121.47196 18.67678, -121.58735 19.0...  \n",
       "2      -122.00475852458318  POLYGON ((-121.58735 19.07142, -121.70380 19.4...  \n",
       "3      -122.12298820692828  POLYGON ((-121.70380 19.46679, -121.82134 19.8...  \n",
       "4      -122.24231221723477  POLYGON ((-121.82134 19.86287, -121.93997 20.2...  \n",
       "...                    ...                                                ...  \n",
       "52406  -60.531503401285384  POLYGON ((-59.91673 50.47990, -59.64991 50.869...  \n",
       "52407   -60.26809895901594  POLYGON ((-59.64991 50.86943, -59.37946 51.257...  \n",
       "52408   -60.00107574170353  POLYGON ((-59.37946 51.25786, -59.10529 51.645...  \n",
       "52409  -59.730363366085086  POLYGON ((-59.10529 51.64514, -58.82733 52.031...  \n",
       "52410  -59.455889752554654  POLYGON ((-58.82733 52.03126, -58.54551 52.416...  \n",
       "\n",
       "[52411 rows x 12 columns]"
      ]
     },
     "execution_count": 14,
     "metadata": {},
     "output_type": "execute_result"
    }
   ],
   "source": [
    "isrm_crosswalk"
   ]
  },
  {
   "cell_type": "code",
   "execution_count": null,
   "id": "1a7ccab3",
   "metadata": {},
   "outputs": [],
   "source": []
  }
 ],
 "metadata": {
  "kernelspec": {
   "display_name": "Python 3",
   "language": "python",
   "name": "python3"
  },
  "language_info": {
   "codemirror_mode": {
    "name": "ipython",
    "version": 3
   },
   "file_extension": ".py",
   "mimetype": "text/x-python",
   "name": "python",
   "nbconvert_exporter": "python",
   "pygments_lexer": "ipython3",
   "version": "3.8.2"
  }
 },
 "nbformat": 4,
 "nbformat_minor": 5
}
